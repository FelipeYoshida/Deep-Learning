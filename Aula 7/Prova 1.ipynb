{
 "cells": [
  {
   "cell_type": "code",
   "execution_count": null,
   "metadata": {},
   "outputs": [],
   "source": [
    "# Nome aluno 1:\n",
    "# RA aluno 1:\n",
    "\n",
    "# Nome aluno 2:\n",
    "# RA aluno 2:\n",
    "\n",
    "# Nome aluno 3:\n",
    "# RA aluno 3:"
   ]
  },
  {
   "cell_type": "markdown",
   "metadata": {},
   "source": [
    "# **Instruções para a Prova**\n",
    "\n",
    "**Antes de iniciar, preencha o Nome e RA no bloco de código acima.**\n",
    "\n",
    "### **Envio da Prova por apenas 1 integrante do grupo no formulário** https://forms.gle/TM3Lb9Cia2tk64Gy6\n",
    "\n",
    "A prova deve ser realizada e enviada seguindo estas diretrizes:\n",
    "\n",
    "**Não renomei o arquivo. Deve ser enviado com o nome \"``Prova 1.ipynb``\"**\n",
    "\n",
    "1. **Composição do Grupo:**\n",
    "   - A prova pode ser realizada individualmente ou em grupos de até 3 integrantes.\n",
    "\n",
    "2. **Consultas:**\n",
    "   - É permitido consultar materiais das aulas anteriores e anotações próprias.\n",
    "\n",
    "3. **Integridade Acadêmica:**\n",
    "   - Será atribuída nota zero à prova de alunos que forem flagrados compartilhando código com outros grupos, utilizando o Google ou Chat GPT durante a prova.\n",
    "   - Alunos que enviarem prova de fraude acadêmica por outros grupos, mediante prova fotográfica enviada por e-mail, receberão nota máxima (SS). A identidade do informante será mantida em sigilo.\n",
    "\n",
    "4. **Intervalo:**\n",
    "   - Não haverá intervalos. Após a finalização da prova, o aluno estará livre para sair.\n",
    "\n",
    "5. **Entrega da Prova:**\n",
    "   - A prova deve ser entregue mantendo todos os blocos de markdown e de código originais, sem adicionar blocos adicionais. Blocos de código extras podem ser usados durante o desenvolvimento, mas a versão final deve conter apenas os blocos fornecidos inicialmente.\n",
    "   - Todas as saídas dos blocos de código devem ser mantidas no envio (Ex: As métricas e o Gráfico)\n",
    "\n",
    "6. **Atenção:**\n",
    "   - Respostas corretas colocadas nas seções erradas não serão consideradas. É essencial colocar cada resposta na seção correspondente à sua questão.\n",
    "\n",
    "**Boa sorte!**\n"
   ]
  },
  {
   "cell_type": "markdown",
   "metadata": {},
   "source": [
    "# Importe todas as bibliotecas no bloco de código abaixo\n",
    "- Cada bibliotecas importada e não utilizada irá reduzir meio ponto da nota.\n",
    "- Cada bibliotecas importada mais de uma vez irá reduzir meio ponto da nota.\n",
    "- Cada bibliotecas importada fora do bloco de código abaixo irá reduzir meio ponto da nota."
   ]
  },
  {
   "cell_type": "code",
   "execution_count": null,
   "metadata": {},
   "outputs": [],
   "source": [
    "# Importe as bibliotecas neste bloco de código\n"
   ]
  },
  {
   "cell_type": "markdown",
   "metadata": {},
   "source": [
    "# 1 - Leia a base 'dados_corretor_imoveis.csv' e faça o tratamento de dados descrito abaixo:"
   ]
  },
  {
   "cell_type": "code",
   "execution_count": null,
   "metadata": {},
   "outputs": [],
   "source": [
    "# 1 - Desenvolva o Código aqui!\n"
   ]
  },
  {
   "cell_type": "markdown",
   "metadata": {},
   "source": [
    "- A - Crie uma coluna chamada \"vendido\" com valor `0` se o valor de status for `for_sale` e `1` se for `sold`. (apague a coluna status)\n",
    "\n"
   ]
  },
  {
   "cell_type": "code",
   "execution_count": null,
   "metadata": {},
   "outputs": [],
   "source": [
    "# A - Desenvolva o Código aqui!\n"
   ]
  },
  {
   "cell_type": "markdown",
   "metadata": {},
   "source": [
    "- B - Tire todas as casas decimais das colunas numéricas\n",
    "\n"
   ]
  },
  {
   "cell_type": "code",
   "execution_count": null,
   "metadata": {},
   "outputs": [],
   "source": [
    "# B - Desenvolva o Código aqui!\n"
   ]
  },
  {
   "cell_type": "markdown",
   "metadata": {},
   "source": [
    "- C - Crie uma coluna binária (0 ou 1) para cada um dos 10 estados mais frequentes na \"coluna \", identifique primeiramente os 10 estados com maior número de ocorrências. Em seguida, para cada um desses estados, crie uma nova coluna no DataFrame, nomeando-a com o nome do estado, e atribua o valor 1 se a casa estiver nesse estado e 0 caso contrário. Casas localizadas fora desses 10 estados devem ter o valor 0 em todas essas novas colunas. Finalize removendo a coluna \"estado\" do DataFrame."
   ]
  },
  {
   "cell_type": "code",
   "execution_count": null,
   "metadata": {},
   "outputs": [],
   "source": [
    "# C - Desenvolva o Código aqui!\n"
   ]
  },
  {
   "cell_type": "markdown",
   "metadata": {},
   "source": [
    "- D - Separe os dados em X (os atributos) e y (a coluna valor)\n",
    "\n"
   ]
  },
  {
   "cell_type": "code",
   "execution_count": null,
   "metadata": {},
   "outputs": [],
   "source": [
    "# D - Desenvolva o Código aqui!\n"
   ]
  },
  {
   "cell_type": "markdown",
   "metadata": {},
   "source": [
    "- E - Separe os dados em treinamento (30%), validação (20%) e teste (50%)."
   ]
  },
  {
   "cell_type": "code",
   "execution_count": null,
   "metadata": {},
   "outputs": [],
   "source": [
    "# E - Desenvolva o Código aqui!\n"
   ]
  },
  {
   "cell_type": "markdown",
   "metadata": {},
   "source": [
    "- F - Normalize  os dados com Standard Scale"
   ]
  },
  {
   "cell_type": "code",
   "execution_count": null,
   "metadata": {},
   "outputs": [],
   "source": [
    "# F - Desenvolva o Código aqui!\n"
   ]
  },
  {
   "cell_type": "markdown",
   "metadata": {},
   "source": [
    "# 2 Defina e compile um modelo para prever o valor com as seguintes caracterìsticas:\n",
    "- Para o modelo:\n",
    "    - Tenha 5 camadas ocultas, respectivamente com 128, 64, 32, 16 e 8 neurônios;\n",
    "    - Use a função de ativaçao Tangente Hiperbólica nas camadas ocultas;\n",
    "- Para a compilação do modelo:\n",
    "    - O Otimizador rmsprop;\n",
    "    - O loss adequado para o tipo de previsão;\n",
    "    - A métrica de erro médio absoluto;\n",
    "- Chame o modelo de \"`model_1`\";"
   ]
  },
  {
   "cell_type": "code",
   "execution_count": null,
   "metadata": {},
   "outputs": [],
   "source": [
    "# 2 - Desenvolva o Código aqui!\n"
   ]
  },
  {
   "cell_type": "markdown",
   "metadata": {},
   "source": [
    "# 3 - Treinamento do modelo:\n",
    "- Defina os callbacks:\n",
    "    - para reduzir a taxa de aprendizado com fator de 0.3, paciência de 3 e valor mínimo para 0.000001, monitorando o loss de validação;\n",
    "    - Parada antecipada do modelo se ficar 10 épocas sem melhorar o loss de validação\n",
    "- Treine o modelo por 20 épocas;\n",
    "- Passe 256 amostras por vez na rede;\n",
    "- Use os dados de validação;\n",
    "- Use os calbacks definidos;\n",
    "- Coloque para mostrar as épocas dutante o treinamento;\n",
    "- Salve os dados históricos do treinamento para posterior análise."
   ]
  },
  {
   "cell_type": "code",
   "execution_count": null,
   "metadata": {},
   "outputs": [],
   "source": [
    "# 3 - Desenvolva o Código aqui!\n"
   ]
  },
  {
   "cell_type": "markdown",
   "metadata": {},
   "source": [
    "# 4 - Exiba os valores de loss e erro médio absoluto de validação e treinamento ao longo das épocas."
   ]
  },
  {
   "cell_type": "code",
   "execution_count": null,
   "metadata": {},
   "outputs": [],
   "source": [
    "# 4 - Desenvolva o Código aqui!\n"
   ]
  },
  {
   "cell_type": "markdown",
   "metadata": {},
   "source": [
    "# 5 - Calcule o MSE, RMSE e MAE para os dados de teste. \n",
    "- Adeque os valores para que as métricas sejam geradas com os valores reais. "
   ]
  },
  {
   "cell_type": "code",
   "execution_count": null,
   "metadata": {},
   "outputs": [],
   "source": [
    "# 5 - Desenvolva o Código aqui!\n"
   ]
  },
  {
   "cell_type": "markdown",
   "metadata": {},
   "source": [
    "# Extra Valendo 1 ponto:\n",
    "- Crie um gráfico comparando os valores reais e valores preditos;\n",
    "- Para o gráfico ficar viável, utilize apenas as primeiras 200 amostras;\n",
    "- Para melhorar a visualização do gráfico, coloque os dados em ordem crescente pelo valor real."
   ]
  },
  {
   "cell_type": "code",
   "execution_count": null,
   "metadata": {},
   "outputs": [],
   "source": [
    "# Desenvolva o Código aqui!\n"
   ]
  },
  {
   "cell_type": "markdown",
   "metadata": {},
   "source": [
    "# 6 - Leia a base de dados metaverse_transactions_dataset.csv e faça o tratamento de dados abaixo:\n"
   ]
  },
  {
   "cell_type": "code",
   "execution_count": null,
   "metadata": {},
   "outputs": [],
   "source": [
    "# 6 - Desenvolva o Código aqui!\n"
   ]
  },
  {
   "cell_type": "markdown",
   "metadata": {},
   "source": [
    "- A - Apague as colunas timestamp, sending_address, receiving_address e purchase_pattern\n"
   ]
  },
  {
   "cell_type": "code",
   "execution_count": null,
   "metadata": {},
   "outputs": [],
   "source": [
    "# A - Desenvolva o Código aqui!\n"
   ]
  },
  {
   "cell_type": "markdown",
   "metadata": {},
   "source": [
    "- B - Transforme as colunas location_region e ip_prefix, com get dummies ou one_hot _encoder (ou com o loc) de forma a criar uma coluna binária para cada possível valor. Por fim apague as colunas originais (se ainda existirem)\n"
   ]
  },
  {
   "cell_type": "code",
   "execution_count": null,
   "metadata": {},
   "outputs": [],
   "source": [
    "# B - Desenvolva o Código aqui!\n"
   ]
  },
  {
   "cell_type": "markdown",
   "metadata": {},
   "source": [
    "- C - Transforme a coluna age_group em numérica transformando os valores new para 0, established para 1 e veteran 22\n"
   ]
  },
  {
   "cell_type": "code",
   "execution_count": null,
   "metadata": {},
   "outputs": [],
   "source": [
    "# C - Desenvolva o Código aqui!\n"
   ]
  },
  {
   "cell_type": "markdown",
   "metadata": {},
   "source": [
    "- D - Transforme a coluna anomaly em numérica transformando os valores low_risk para 0, moderate_risk para 1 e high_risk 2"
   ]
  },
  {
   "cell_type": "code",
   "execution_count": null,
   "metadata": {},
   "outputs": [],
   "source": [
    "# D - Desenvolva o Código aqui!\n"
   ]
  },
  {
   "cell_type": "markdown",
   "metadata": {},
   "source": [
    "- E - Separe os dados em X e y (transaction_type)"
   ]
  },
  {
   "cell_type": "code",
   "execution_count": null,
   "metadata": {},
   "outputs": [],
   "source": [
    "# E - Desenvolva o Código aqui!\n"
   ]
  },
  {
   "cell_type": "markdown",
   "metadata": {},
   "source": [
    "- F - Separe os dados em treinamento (70%), validação (15%) e teste (15%)"
   ]
  },
  {
   "cell_type": "code",
   "execution_count": null,
   "metadata": {},
   "outputs": [],
   "source": [
    "# F - Desenvolva o Código aqui!\n"
   ]
  },
  {
   "cell_type": "markdown",
   "metadata": {},
   "source": [
    "- G - Normalize os dados com MinMaxScaler"
   ]
  },
  {
   "cell_type": "code",
   "execution_count": null,
   "metadata": {},
   "outputs": [],
   "source": [
    "# G - Desenvolva o Código aqui!\n"
   ]
  },
  {
   "cell_type": "markdown",
   "metadata": {},
   "source": [
    "- H - Transforme os dados de y para se adequar a uma classificação multiclasse "
   ]
  },
  {
   "cell_type": "code",
   "execution_count": null,
   "metadata": {},
   "outputs": [],
   "source": [
    "# H - Desenvolva o Código aqui!\n"
   ]
  },
  {
   "cell_type": "markdown",
   "metadata": {},
   "source": [
    "# 7 Defina e compile um modelo para prever o tipo da transação com as seguintes características:\n",
    "- Para o modelo:\n",
    "    - Tenha 6 camadas ocultas, respectivamente com 64, 64, 64, 32, 16 e 8 neurônios;\n",
    "    - Use a função de ativaçao relu nas camadas ocultas;\n",
    "- Para a compilação do modelo:\n",
    "    - O Otimizador adam;\n",
    "    - O loss adequado para o tipo de previsão;\n",
    "    - A métrica de acurácia;\n",
    "- Chame o modelo de \"`model_2`\";"
   ]
  },
  {
   "cell_type": "code",
   "execution_count": null,
   "metadata": {},
   "outputs": [],
   "source": [
    "# 7 - Desenvolva o Código aqui!\n"
   ]
  },
  {
   "cell_type": "markdown",
   "metadata": {},
   "source": [
    "# 8 - Treinamento do modelo:\n",
    "- Defina os callbacks:\n",
    "    - para reduzir a taxa de aprendizado com fator de 0.35, paciência de 4 e valor mínimo para 0.00001, monitorando a acurácia de validação;\n",
    "    - Parada antecipada do modelo se ficar 15 épocas sem melhorar o loss de validação\n",
    "- Treine o modelo por 150 épocas;\n",
    "- Passe 128 amostras por vez na rede;\n",
    "- Use os dados de validação;\n",
    "- Use os calbacks definidos;\n",
    "- Coloque para mostrar as épocas dutante o treinamento;\n",
    "- Salve os dados históricos do treinamento para posterior análise."
   ]
  },
  {
   "cell_type": "code",
   "execution_count": null,
   "metadata": {},
   "outputs": [],
   "source": [
    "# 8 - Desenvolva o Código aqui!\n"
   ]
  },
  {
   "cell_type": "markdown",
   "metadata": {},
   "source": [
    "# 9 - Exiba os valores de loss e acurácia de validação e treinamento ao longo das épocas."
   ]
  },
  {
   "cell_type": "code",
   "execution_count": null,
   "metadata": {},
   "outputs": [],
   "source": [
    "# 9 - Desenvolva o Código aqui!\n"
   ]
  },
  {
   "cell_type": "markdown",
   "metadata": {},
   "source": [
    "# 10 - Exiba as métricas de validaçao do modelo abaixo:"
   ]
  },
  {
   "cell_type": "code",
   "execution_count": null,
   "metadata": {},
   "outputs": [],
   "source": [
    "# Faça a previsão neste bloco de código\n"
   ]
  },
  {
   "cell_type": "markdown",
   "metadata": {},
   "source": [
    "- A - Relatório de Classificação\n"
   ]
  },
  {
   "cell_type": "code",
   "execution_count": null,
   "metadata": {},
   "outputs": [],
   "source": [
    "# A - Desenvolva o Código aqui!\n"
   ]
  },
  {
   "cell_type": "markdown",
   "metadata": {},
   "source": [
    "- B - F1 Score\n"
   ]
  },
  {
   "cell_type": "code",
   "execution_count": null,
   "metadata": {},
   "outputs": [],
   "source": [
    "# B - Desenvolva o Código aqui!\n"
   ]
  },
  {
   "cell_type": "markdown",
   "metadata": {},
   "source": [
    "- C - Matriz de confusão com gráfico de calor"
   ]
  },
  {
   "cell_type": "code",
   "execution_count": null,
   "metadata": {},
   "outputs": [],
   "source": [
    "# C - Desenvolva o Código aqui!\n"
   ]
  }
 ],
 "metadata": {
  "kernelspec": {
   "display_name": "tf",
   "language": "python",
   "name": "python3"
  },
  "language_info": {
   "codemirror_mode": {
    "name": "ipython",
    "version": 3
   },
   "file_extension": ".py",
   "mimetype": "text/x-python",
   "name": "python",
   "nbconvert_exporter": "python",
   "pygments_lexer": "ipython3",
   "version": "3.11.8"
  }
 },
 "nbformat": 4,
 "nbformat_minor": 2
}
